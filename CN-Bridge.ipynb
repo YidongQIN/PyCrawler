{
 "cells": [
  {
   "cell_type": "markdown",
   "metadata": {},
   "source": [
    "基础爬虫\n",
    "======="
   ]
  },
  {
   "cell_type": "code",
   "execution_count": 4,
   "metadata": {},
   "outputs": [],
   "source": [
    "# import lxml\n",
    "import requests\n",
    "from bs4 import BeautifulSoup\n",
    "import re\n",
    "import os"
   ]
  },
  {
   "cell_type": "code",
   "execution_count": 5,
   "metadata": {},
   "outputs": [],
   "source": [
    "def html2soup(url):\n",
    "    r = requests.get(url, timeout=30)\n",
    "    r.encoding = 'utf-8'\n",
    "    html = r.content\n",
    "    soup = BeautifulSoup(html, 'lxml')\n",
    "    return soup\n",
    "\n",
    "def find_related_url(url, keyword):\n",
    "    soup = html2soup(url)\n",
    "    related_url = {}\n",
    "    related = soup.find_all('div', attrs={'class': 'show74 left'})\n",
    "    for u in related:\n",
    "        if keyword in u.a.text:\n",
    "            related_url[u.a.text] = u.a['href']\n",
    "    return related_url"
   ]
  },
  {
   "cell_type": "code",
   "execution_count": 6,
   "metadata": {},
   "outputs": [],
   "source": [
    "def url_list(main_site, start_pos, keyword, limit):\n",
    "    depth = 0\n",
    "    start_url = \"\".join([main_site, start_pos])\n",
    "    all_related = find_related_url(start_url, keyword)\n",
    "    while depth < limit:\n",
    "        print('Search Time:', depth)\n",
    "        print('Current URLs:', all_related)\n",
    "        depth = depth+1\n",
    "        for pos in all_related.values():\n",
    "            _ = \"\".join([main_site, pos])\n",
    "            new_url = find_related_url(_, keyword)\n",
    "            all_related = {**all_related, **new_url}\n",
    "    return all_related"
   ]
  },
  {
   "cell_type": "code",
   "execution_count": 7,
   "metadata": {},
   "outputs": [],
   "source": [
    "def get_content(url):\n",
    "    soup = html2soup(url)\n",
    "    # three contents: title, main body, right columns\n",
    "    title = soup.find('div', attrs={'class': 'show17'}).text.strip()\n",
    "    _body = soup.find('div', attrs={'class': 'show63'}).text.strip()\n",
    "    _body = respace(_body)\n",
    "    body = \"\\n[来源]({})\\n\\n{}\".format(url, _body)\n",
    "    print('Finish parsing')\n",
    "    return {'title': title, 'body': body}"
   ]
  },
  {
   "cell_type": "code",
   "execution_count": 31,
   "metadata": {},
   "outputs": [],
   "source": [
    "def respace(text):\n",
    "    text = text.replace('\\n', '')\n",
    "    text = text.replace('　', '')\n",
    "    text = text.replace(' ', '')\n",
    "    text = text.replace('。','。\\n')\n",
    "    return text"
   ]
  },
  {
   "cell_type": "code",
   "execution_count": 21,
   "metadata": {},
   "outputs": [],
   "source": [
    "def writeFile(content_dict, folder='Storage'):\n",
    "    if not os.path.exists(folder):\n",
    "        os.mkdir(folder)\n",
    "    with open('{}\\\\{}.md'.format(folder, content_dict['title']), 'w', encoding='utf-8') as f:\n",
    "        f.write(\"{}\\n=====\\n\".format(content_dict['title']))\n",
    "        f.write(\"{}\".format(content_dict['body']))\n",
    "    print('Finish writing 《{}》'.format(content_dict['title']))"
   ]
  },
  {
   "cell_type": "code",
   "execution_count": 32,
   "metadata": {},
   "outputs": [
    {
     "name": "stdout",
     "output_type": "stream",
     "text": [
      "Search Time: 0\n",
      "Current URLs: {'BIM 在国外应用的现状研究': '2017/1208/551262.html', '国内外BIM标准发展情况': '2017/1208/551227.html', '国内外BIM主流软件包括哪些？': '2017/1208/551221.html', '中国BIM，世界BIM': '2017/1208/551220.html', '国外公司公路BIM解决方案存在的问题': '2017/1208/551219.html', 'BIM国外应用介绍之新加坡': '2017/1208/551201.html', 'BIM在美国的应用现状': '2017/1208/551200.html'}\n",
      "Finish parsing\n",
      "Finish writing 《BIM 在国外应用的现状研究》\n",
      "Finish parsing\n",
      "Finish writing 《国内外BIM标准发展情况》\n",
      "Finish parsing\n",
      "Finish writing 《国内外BIM主流软件包括哪些？》\n",
      "Finish parsing\n",
      "Finish writing 《中国BIM，世界BIM》\n",
      "Finish parsing\n",
      "Finish writing 《国外公司公路BIM解决方案存在的问题》\n",
      "Finish parsing\n",
      "Finish writing 《BIM国外应用介绍之新加坡》\n",
      "Finish parsing\n",
      "Finish writing 《BIM在美国的应用现状》\n"
     ]
    }
   ],
   "source": [
    "if __name__ == '__main__':\n",
    "    main_site = \"http://www.cnbridge.cn/\"\n",
    "    start_pos = \"2017/1208/551262.html\"\n",
    "    keyword = \"BIM\"\n",
    "    time_limit = 1\n",
    "    urls = url_list(main_site, start_pos, keyword, time_limit)\n",
    "    for _ in urls.values():\n",
    "        writeFile(get_content(\"\".join([main_site, _])), folder='BrIM')"
   ]
  }
 ],
 "metadata": {
  "kernelspec": {
   "display_name": "Python 3",
   "language": "python",
   "name": "python3"
  },
  "language_info": {
   "codemirror_mode": {
    "name": "ipython",
    "version": 3
   },
   "file_extension": ".py",
   "mimetype": "text/x-python",
   "name": "python",
   "nbconvert_exporter": "python",
   "pygments_lexer": "ipython3",
   "version": "3.6.4"
  }
 },
 "nbformat": 4,
 "nbformat_minor": 2
}
